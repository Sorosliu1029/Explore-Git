{
 "cells": [
  {
   "cell_type": "markdown",
   "id": "0444a074",
   "metadata": {},
   "source": [
    "plumbing command `git hash-object`, which takes some data, stores it in your `.git/objects` directory (the object database), and gives you back the unique key that now refers to that data object.\n",
    "\n",
    "ref: [Git Objects](https://git-scm.com/book/en/v2/Git-Internals-Git-Objects)"
   ]
  },
  {
   "cell_type": "code",
   "execution_count": 24,
   "id": "93c63143",
   "metadata": {},
   "outputs": [
    {
     "name": "stdout",
     "output_type": "stream",
     "text": [
      "7ce5af5ef26cedb844923e88c8a6b07f401626d4\n"
     ]
    }
   ],
   "source": [
    "import subprocess, shlex\n",
    "\n",
    "blob_text = \"explore git internal\\n\"\n",
    "blob_object_sha1 = subprocess.run(shlex.split('git hash-object -t blob -w --stdin'), \n",
    "                                  input=blob_text, capture_output=True, encoding='utf-8').stdout.strip()\n",
    "print(blob_object_sha1)"
   ]
  },
  {
   "cell_type": "markdown",
   "id": "d71bf302",
   "metadata": {},
   "source": [
    "examine that content with the `git cat-file` command. This command is sort of a Swiss army knife for inspecting Git objects. "
   ]
  },
  {
   "cell_type": "code",
   "execution_count": 27,
   "id": "0d9d3644",
   "metadata": {},
   "outputs": [
    {
     "name": "stdout",
     "output_type": "stream",
     "text": [
      "explore git internal\n",
      "\n"
     ]
    }
   ],
   "source": [
    "blob_raw_cat_file_result = subprocess.run(shlex.split('git cat-file -p ' + blob_object_sha1),\n",
    "                                          capture_output=True, encoding='utf-8').stdout\n",
    "print(blob_raw_cat_file_result)"
   ]
  },
  {
   "cell_type": "markdown",
   "id": "173b1493",
   "metadata": {},
   "source": [
    "all objects share the following characteristics: \n",
    "- they are all deflated with zlib, \n",
    "- and have a header that not only specifies their type, but also provides size information about the data in the object"
   ]
  },
  {
   "cell_type": "code",
   "execution_count": 29,
   "id": "ec79260a",
   "metadata": {},
   "outputs": [
    {
     "name": "stdout",
     "output_type": "stream",
     "text": [
      "b'blob 21\\x00explore git internal\\n'\n"
     ]
    }
   ],
   "source": [
    "import zlib\n",
    "with open('../.git/objects/{0}/{1}'.format(blob_object_sha1[:2], blob_object_sha1[2:]), 'rb') as f:\n",
    "    decompressed_content = zlib.decompress(f.read())\n",
    "print(decompressed_content)"
   ]
  },
  {
   "cell_type": "markdown",
   "id": "899eeed1",
   "metadata": {},
   "source": [
    "all objects can be validated by verifying that \n",
    "- (a) their hashes match the content of the file and \n",
    "- (b) the object successfully inflates to a stream of bytes that forms a sequence of `<ascii type without space> + <space> + <ascii decimal size> + <byte\\0> + <binary object data>`."
   ]
  },
  {
   "cell_type": "code",
   "execution_count": 37,
   "id": "464b05f2",
   "metadata": {},
   "outputs": [
    {
     "name": "stdout",
     "output_type": "stream",
     "text": [
      "b'blob'\n",
      "b'21'\n",
      "b'explore git internal\\n'\n"
     ]
    }
   ],
   "source": [
    "# parse blob object file\n",
    "import re\n",
    "p = re.compile(b'^(blob|tree|commit|tag) (\\d+)\\x00(.*)$', re.DOTALL)\n",
    "m = p.match(decompressed_content)\n",
    "[object_type, content_length, content] = m.groups()\n",
    "print(object_type)\n",
    "print(content_length)\n",
    "print(content)"
   ]
  },
  {
   "cell_type": "code",
   "execution_count": 40,
   "id": "0d3333de",
   "metadata": {},
   "outputs": [],
   "source": [
    "assert(len(content) == int(content_length))\n",
    "assert(content.decode('utf-8') == blob_text)"
   ]
  },
  {
   "cell_type": "code",
   "execution_count": 44,
   "id": "6d8cb414",
   "metadata": {},
   "outputs": [
    {
     "name": "stdout",
     "output_type": "stream",
     "text": [
      "b'blob 21\\x00explore git internal\\n'\n",
      "7ce5af5ef26cedb844923e88c8a6b07f401626d4\n"
     ]
    }
   ],
   "source": [
    "# re-construct sha1\n",
    "raw_content = ('blob {0}\\x00{1}'.format(len(blob_text), blob_text)).encode('utf-8')\n",
    "print(raw_content)\n",
    "\n",
    "import hashlib\n",
    "computed_sha1 = hashlib.sha1(raw_content).hexdigest()\n",
    "print(computed_sha1)"
   ]
  },
  {
   "cell_type": "code",
   "execution_count": 45,
   "id": "78ddceca",
   "metadata": {},
   "outputs": [],
   "source": [
    "assert(computed_sha1 == blob_object_sha1)"
   ]
  }
 ],
 "metadata": {
  "kernelspec": {
   "display_name": "Python 3 (ipykernel)",
   "language": "python",
   "name": "python3"
  },
  "language_info": {
   "codemirror_mode": {
    "name": "ipython",
    "version": 3
   },
   "file_extension": ".py",
   "mimetype": "text/x-python",
   "name": "python",
   "nbconvert_exporter": "python",
   "pygments_lexer": "ipython3",
   "version": "3.9.7"
  }
 },
 "nbformat": 4,
 "nbformat_minor": 5
}
